{
 "cells": [
  {
   "cell_type": "markdown",
   "metadata": {},
   "source": [
    "# Exercise Series 2: Linear Models"
   ]
  },
  {
   "cell_type": "markdown",
   "metadata": {},
   "source": [
    "## Conceptual"
   ]
  },
  {
   "cell_type": "markdown",
   "metadata": {},
   "source": [
    "### Q1. linear regression: RSS\n",
    "\n",
    "We collect a set of data (e.g. with 100 samples) containing a single feature and a quantitative target. We then fit a linear regression model to the data, as well as a separate squared regression, i.e. Y = β0 + β1X + β2X^2 + ϵ.\n",
    "\n",
    "(a) Suppose that the true relationship between X and Y is linear, i.e. Y = β0 + β1X + ϵ. Consider the training residual sum of squares (RSS) for the linear regression, and also the training RSS for the squared regression, i.e. Y = β0 + β1X + β2X^2 + ϵ. What could be said about the relationship between these two and why?\n",
    "\n",
    "(b) Answer (a) using test rather than training RSS.\n",
    "\n",
    "(c) Suppose that the true relationship between X and Y is not linear, but we don’t know the true relationship. Consider the training RSS for the linear regression, and also the training RSS for the squared regression. What could be said about the relationship between these two and why?\n",
    "\n",
    "(d) Answer (c) using test rather than training RSS."
   ]
  },
  {
   "cell_type": "markdown",
   "metadata": {},
   "source": [
    "### Q2. logistic regression: interpretation\n",
    "\n",
    "Suppose we collect data for a group of students in a statistics class with variables X1 = hours studied, X2 = undergrad GPA, and Y = receive an A grade. We fit a logistic regression and obtain estimated coefficients: β0 = −6, β1 = 0.05 and β2 = 1.\n",
    "\n",
    "(a) Estimate the probability that a student who studies for 40 h and has an undergrad GPA of 3.5 gets an A in the class.\n",
    "\n",
    "(b) How many hours would the student in part (a) need to study to have a 50% chance of getting an A in the class? "
   ]
  },
  {
   "cell_type": "markdown",
   "metadata": {},
   "source": [
    "### Q3. linear regression: regularization\n",
    "\n",
    "For parts a and b, indicate whether each statement is correct or incorrect and why.\n",
    "\n",
    "(a) The ridge regression, relative to ordinary least squares, is:\n",
    "\n",
    "i. More flexible and hence will give improved prediction accuracy when its increase in bias is less than its decrease in variance.\n",
    "\n",
    "ii. More flexible and hence will give improved prediction accuracy when its increase in variance is less than its decrease in bias.\n",
    "\n",
    "iii. Less flexible and hence will give improved prediction accuracy when its increase in bias is less than its decrease in variance.\n",
    "\n",
    "iv. Less flexible and hence will give improved prediction accuracy when its increase in variance is less than its decrease in bias.\n",
    "\n",
    "(b) Repeat (a) for lasso regression relative to ordinary least squares."
   ]
  },
  {
   "cell_type": "markdown",
   "metadata": {},
   "source": [
    "## Practical"
   ]
  },
  {
   "cell_type": "markdown",
   "metadata": {},
   "source": [
    "### Q4. linear regression: ordinary least squares\n",
    "\n",
    "This problem involves the Boston data set (http://www.cs.toronto.edu/~delve/data/boston/bostonDetail.html). This dataset contains information collected by the U.S Census Service concerning housing in the area of Boston Mass. We try to predict per capita crime rate using the other variables in this data set. In other words, per capita crime rate is the target, and other variables are features.\n",
    "\n",
    "(a) For each feature, fit a simple linear regression model to predict the target. Plot your results as well as actual points on the same graph.\n",
    "\n",
    "(b) Fit a multiple regression model to predict the target using all of the predictors. Describe your result.\n",
    "\n",
    "(c) How can your results from (a) be compared to your results from (b)? Create a plot displaying the single regression coefficients from (a) on the x-axis, and the multiple regression coefficients from (b) on the y-axis. That is, each predictor is displayed as a\n",
    "single point in the plot. Its coefficient in a simple linear regression model is shown on the x-axis, and its coefficient estimate in the multiple linear regression model is shown on the y-axis.\n"
   ]
  },
  {
   "cell_type": "markdown",
   "metadata": {},
   "source": [
    "### Q5. linear classification: logistic regression and regularization\n",
    "\n",
    "Using the Boston data set, fit classification models in order to predict whether a given suburb has a crime rate above or below the median.\n",
    "\n",
    "(a) Create a binary feature, CRIM_BIN, that contains a 1 if CRIM contains a value above or equal to its median, and a 0 if CRIM contains a value below its median. \n",
    "\n",
    "(b) Explore the data visually in order to investigate the association between CRIM_BIN and the other features. Which features seem most likely to be useful in predicting CRIM_BIN? Describe your findings.\n",
    "\n",
    "(c) Split the data into a training set (80%) and a test set (20%) randomly.\n",
    "\n",
    "(d) Perform logistic regression with no regularization on the training data in order to predict CRIM_BIN using 'each single feature' as well as 'all features'. What is the performance of each model (in terms of plain accuracy)? Explain your results.\n",
    "\n",
    "(e) Try to find out which L2 regularization strength gives the least test error in the model which uses all features as predictors (in terms of plain accuracy). "
   ]
  },
  {
   "cell_type": "markdown",
   "metadata": {},
   "source": [
    "### Q6. linear regression: regularization, feature selection and feature projection\n",
    "\n",
    "We again try to predict per capita crime rate in the Boston data set, considering the training set and test set of the question 5, part c.\n",
    "\n",
    "(a) Fit a linear model using least squares on the training set, and report the test error.\n",
    "\n",
    "(b) Fit a ridge regression model on the training set, with alpha chosen to minimize test error. Report alpha and the test error.\n",
    "\n",
    "(c) Fit a lasso model on the training set, with alpha chosen to minimize test error.\n",
    "Report alpha, the test error and the number of non-zero coefficient estimates.\n",
    "\n",
    "(d) Fit a PCA model on the training set, with M (number of principal components), chosen by minimizing test error obtained from applying projected set of features to predict crime rate using linear regression. Report M and the test error.\n",
    "\n",
    "(e) How accurately can we predict the per capita crime in Boston area using mentioned models? Is there much difference among the test errors resulting from these four approaches?"
   ]
  }
 ],
 "metadata": {
  "anaconda-cloud": {},
  "kernelspec": {
   "display_name": "Python 3",
   "language": "python",
   "name": "python3"
  },
  "language_info": {
   "codemirror_mode": {
    "name": "ipython",
    "version": 3
   },
   "file_extension": ".py",
   "mimetype": "text/x-python",
   "name": "python",
   "nbconvert_exporter": "python",
   "pygments_lexer": "ipython3",
   "version": "3.6.0"
  }
 },
 "nbformat": 4,
 "nbformat_minor": 1
}
